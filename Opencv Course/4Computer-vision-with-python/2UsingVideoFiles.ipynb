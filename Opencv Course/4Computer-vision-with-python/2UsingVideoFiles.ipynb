{
 "cells": [
  {
   "cell_type": "code",
   "execution_count": 2,
   "metadata": {},
   "outputs": [],
   "source": [
    "#this video capture is running fast because this is not for showing to the human this is for only competer it is read all different frame quickly\n",
    "import cv2\n",
    "\n",
    "cap = cv2.VideoCapture(\"../DATA/hand_move.mp4\")\n",
    "\n",
    "if cap.isOpened() == False:\n",
    "    print(\"file not found or wrong coded used\")\n",
    "\n",
    "while cap.isOpened():\n",
    "    ret,frame = cap.read()\n",
    "\n",
    "    if ret == True:\n",
    "        cv2.imshow(\"frame\",frame)\n",
    "\n",
    "        if cv2.waitKey(10) & 0xFF == ord('q'):\n",
    "            break\n",
    "    else:\n",
    "        break\n",
    "\n",
    "cap.release()\n",
    "cv2.destroyAllWindows()"
   ]
  },
  {
   "cell_type": "code",
   "execution_count": 3,
   "metadata": {},
   "outputs": [],
   "source": [
    "#normal video running\n",
    "import cv2\n",
    "import time\n",
    "cap = cv2.VideoCapture(\"../DATA/hand_move.mp4\")\n",
    "\n",
    "if cap.isOpened() == False:\n",
    "    print(\"file not found or wrong coded used\")\n",
    "\n",
    "while cap.isOpened():\n",
    "    ret,frame = cap.read()\n",
    "\n",
    "    if ret == True:\n",
    "\n",
    "\n",
    "\n",
    "        # Writer 20 fps\n",
    "        time.sleep(1/20)\n",
    "        cv2.imshow(\"frame\",frame)\n",
    "\n",
    "        if cv2.waitKey(10) & 0xFF == ord('q'):\n",
    "            break\n",
    "    else:\n",
    "        break\n",
    "\n",
    "cap.release()\n",
    "cv2.destroyAllWindows()"
   ]
  }
 ],
 "metadata": {
  "kernelspec": {
   "display_name": "Python 3",
   "language": "python",
   "name": "python3"
  },
  "language_info": {
   "codemirror_mode": {
    "name": "ipython",
    "version": 3
   },
   "file_extension": ".py",
   "mimetype": "text/x-python",
   "name": "python",
   "nbconvert_exporter": "python",
   "pygments_lexer": "ipython3",
   "version": "3.10.0"
  }
 },
 "nbformat": 4,
 "nbformat_minor": 2
}
